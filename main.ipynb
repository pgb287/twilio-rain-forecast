{
 "cells": [
  {
   "cell_type": "code",
   "execution_count": 1,
   "metadata": {},
   "outputs": [],
   "source": [
    "# pip install twilio\n",
    "\n",
    "# import os\n",
    "from twilio.rest import Client\n",
    "from twilio_config import TWILIO_ACCOUNT_SID, TWILIO_AUTH_TOKEN, PHONE_NUMBER, API_KEY_WAPI\n",
    "# import time\n",
    "\n",
    "# from requests import Request,Session\n",
    "# from requests.exceptions import ConnectionError,Timeout,TooManyRedirects\n",
    "import json\n",
    "\n",
    "import pandas as pd\n",
    "import requests\n",
    "# from bs4 import BeautifulSoup\n",
    "from tqdm import tqdm\n",
    "from time import sleep\n",
    "\n",
    "# from datetime import datetime"
   ]
  },
  {
   "cell_type": "code",
   "execution_count": 2,
   "metadata": {},
   "outputs": [],
   "source": [
    "query = \"San Salvador de Jujuy\"\n",
    "api_key = API_KEY_WAPI\n",
    "\n",
    "url_clima = f\"http://api.weatherapi.com/v1/forecast.json?key={api_key}&q={query}&days=1&aqi=no&alerts=no\"\n",
    "\n",
    "response = requests.get(url_clima).json()\n",
    "# Ver la estructura que almacena la variable response en: 'estructura.json'"
   ]
  },
  {
   "cell_type": "code",
   "execution_count": 3,
   "metadata": {},
   "outputs": [
    {
     "name": "stdout",
     "output_type": "stream",
     "text": [
      "dict_keys(['location', 'current', 'forecast'])\n"
     ]
    }
   ],
   "source": [
    "# Llaves principales de la estructura del JSON. \n",
    "print(response.keys())"
   ]
  },
  {
   "cell_type": "code",
   "execution_count": 4,
   "metadata": {},
   "outputs": [
    {
     "name": "stdout",
     "output_type": "stream",
     "text": [
      "dict_keys(['date', 'date_epoch', 'day', 'astro', 'hour'])\n"
     ]
    }
   ],
   "source": [
    "# Llaves principales de la estructura de segundo nivel dentro de \"forecast\"\n",
    "print(response['forecast']['forecastday'][0].keys())"
   ]
  },
  {
   "cell_type": "code",
   "execution_count": 5,
   "metadata": {},
   "outputs": [
    {
     "name": "stdout",
     "output_type": "stream",
     "text": [
      "24\n"
     ]
    }
   ],
   "source": [
    "# Dentro de la llave 'hour' tenemos una lista de diccionarios correspondientes al pronostico en cada hora del dia, es decir 24 diccionarios \n",
    "print(len(response['forecast']['forecastday'][0]['hour']))"
   ]
  },
  {
   "cell_type": "code",
   "execution_count": 6,
   "metadata": {},
   "outputs": [
    {
     "name": "stdout",
     "output_type": "stream",
     "text": [
      "2024-01-12\n",
      "10\n",
      "Light drizzle\n",
      "18.4\n",
      "1\n",
      "100\n"
     ]
    }
   ],
   "source": [
    "# TOMANDO COMO EJEMPLO EL DECIMO DICCIONARIO (10:00hs)\n",
    "# Obtener fecha\n",
    "print(response['forecast']['forecastday'][0]['hour'][10]['time'].split()[0])\n",
    "# Obtener hora\n",
    "print(response['forecast']['forecastday'][0]['hour'][10]['time'].split()[1].split(':')[0])\n",
    "# Obtener condicion\n",
    "print(response['forecast']['forecastday'][0]['hour'][10]['condition']['text'])\n",
    "# Obtener temperatura\n",
    "print(response['forecast']['forecastday'][0]['hour'][10]['temp_c'])\n",
    "# Obtener respuesta a llovera? 1=si 0=no\n",
    "print(response['forecast']['forecastday'][0]['hour'][10]['will_it_rain'])\n",
    "# Obtener probabilidad de lluvia\n",
    "print(response['forecast']['forecastday'][0]['hour'][10]['chance_of_rain'])"
   ]
  },
  {
   "cell_type": "code",
   "execution_count": 7,
   "metadata": {},
   "outputs": [],
   "source": [
    "def get_forecast(response,i):\n",
    "    fecha = response['forecast']['forecastday'][0]['hour'][i]['time'].split()[0]\n",
    "    hora = int(response['forecast']['forecastday'][0]['hour'][i]['time'].split()[\n",
    "        1].split(':')[0])\n",
    "    condicion = response['forecast']['forecastday'][0]['hour'][i]['condition']['text']\n",
    "    temperatura = response['forecast']['forecastday'][0]['hour'][i]['temp_c']\n",
    "    lluvia = response['forecast']['forecastday'][0]['hour'][i]['will_it_rain']\n",
    "    prob_lluvia = response['forecast']['forecastday'][0]['hour'][i]['chance_of_rain']\n",
    "    return fecha,hora,condicion,temperatura,lluvia,prob_lluvia"
   ]
  },
  {
   "cell_type": "code",
   "execution_count": 8,
   "metadata": {},
   "outputs": [
    {
     "name": "stderr",
     "output_type": "stream",
     "text": [
      "100%|\u001b[32m██████████\u001b[0m| 24/24 [00:00<00:00, 45569.62it/s]\n"
     ]
    }
   ],
   "source": [
    "datos = []\n",
    "for i in tqdm(range(len(response['forecast']['forecastday'][0]['hour'])), colour='green'):    \n",
    "    datos.append(get_forecast(response,i))    \n",
    "    #sleep(0.5)    "
   ]
  },
  {
   "cell_type": "code",
   "execution_count": 9,
   "metadata": {},
   "outputs": [],
   "source": [
    "col = ['Fecha','Hora','Condicion','Temperatura','Lluvia','Prob_lluvia']\n",
    "df = pd.DataFrame(datos,columns=col)"
   ]
  },
  {
   "cell_type": "code",
   "execution_count": 10,
   "metadata": {},
   "outputs": [
    {
     "data": {
      "text/html": [
       "<div>\n",
       "<style scoped>\n",
       "    .dataframe tbody tr th:only-of-type {\n",
       "        vertical-align: middle;\n",
       "    }\n",
       "\n",
       "    .dataframe tbody tr th {\n",
       "        vertical-align: top;\n",
       "    }\n",
       "\n",
       "    .dataframe thead th {\n",
       "        text-align: right;\n",
       "    }\n",
       "</style>\n",
       "<table border=\"1\" class=\"dataframe\">\n",
       "  <thead>\n",
       "    <tr style=\"text-align: right;\">\n",
       "      <th></th>\n",
       "      <th>Fecha</th>\n",
       "      <th>Hora</th>\n",
       "      <th>Condicion</th>\n",
       "      <th>Temperatura</th>\n",
       "      <th>Lluvia</th>\n",
       "      <th>Prob_lluvia</th>\n",
       "    </tr>\n",
       "  </thead>\n",
       "  <tbody>\n",
       "    <tr>\n",
       "      <th>0</th>\n",
       "      <td>2024-01-12</td>\n",
       "      <td>0</td>\n",
       "      <td>Fog</td>\n",
       "      <td>16.2</td>\n",
       "      <td>1</td>\n",
       "      <td>75</td>\n",
       "    </tr>\n",
       "    <tr>\n",
       "      <th>1</th>\n",
       "      <td>2024-01-12</td>\n",
       "      <td>1</td>\n",
       "      <td>Mist</td>\n",
       "      <td>15.2</td>\n",
       "      <td>0</td>\n",
       "      <td>0</td>\n",
       "    </tr>\n",
       "    <tr>\n",
       "      <th>2</th>\n",
       "      <td>2024-01-12</td>\n",
       "      <td>2</td>\n",
       "      <td>Mist</td>\n",
       "      <td>13.8</td>\n",
       "      <td>0</td>\n",
       "      <td>0</td>\n",
       "    </tr>\n",
       "    <tr>\n",
       "      <th>3</th>\n",
       "      <td>2024-01-12</td>\n",
       "      <td>3</td>\n",
       "      <td>Partly cloudy</td>\n",
       "      <td>13.1</td>\n",
       "      <td>0</td>\n",
       "      <td>0</td>\n",
       "    </tr>\n",
       "    <tr>\n",
       "      <th>4</th>\n",
       "      <td>2024-01-12</td>\n",
       "      <td>4</td>\n",
       "      <td>Partly cloudy</td>\n",
       "      <td>12.8</td>\n",
       "      <td>0</td>\n",
       "      <td>0</td>\n",
       "    </tr>\n",
       "    <tr>\n",
       "      <th>5</th>\n",
       "      <td>2024-01-12</td>\n",
       "      <td>5</td>\n",
       "      <td>Mist</td>\n",
       "      <td>12.3</td>\n",
       "      <td>0</td>\n",
       "      <td>0</td>\n",
       "    </tr>\n",
       "    <tr>\n",
       "      <th>6</th>\n",
       "      <td>2024-01-12</td>\n",
       "      <td>6</td>\n",
       "      <td>Mist</td>\n",
       "      <td>12.4</td>\n",
       "      <td>0</td>\n",
       "      <td>0</td>\n",
       "    </tr>\n",
       "    <tr>\n",
       "      <th>7</th>\n",
       "      <td>2024-01-12</td>\n",
       "      <td>7</td>\n",
       "      <td>Mist</td>\n",
       "      <td>15.8</td>\n",
       "      <td>0</td>\n",
       "      <td>0</td>\n",
       "    </tr>\n",
       "    <tr>\n",
       "      <th>8</th>\n",
       "      <td>2024-01-12</td>\n",
       "      <td>8</td>\n",
       "      <td>Patchy rain possible</td>\n",
       "      <td>17.7</td>\n",
       "      <td>1</td>\n",
       "      <td>89</td>\n",
       "    </tr>\n",
       "    <tr>\n",
       "      <th>9</th>\n",
       "      <td>2024-01-12</td>\n",
       "      <td>9</td>\n",
       "      <td>Light drizzle</td>\n",
       "      <td>18.1</td>\n",
       "      <td>1</td>\n",
       "      <td>100</td>\n",
       "    </tr>\n",
       "    <tr>\n",
       "      <th>10</th>\n",
       "      <td>2024-01-12</td>\n",
       "      <td>10</td>\n",
       "      <td>Light drizzle</td>\n",
       "      <td>18.4</td>\n",
       "      <td>1</td>\n",
       "      <td>100</td>\n",
       "    </tr>\n",
       "    <tr>\n",
       "      <th>11</th>\n",
       "      <td>2024-01-12</td>\n",
       "      <td>11</td>\n",
       "      <td>Light rain shower</td>\n",
       "      <td>18.6</td>\n",
       "      <td>1</td>\n",
       "      <td>100</td>\n",
       "    </tr>\n",
       "    <tr>\n",
       "      <th>12</th>\n",
       "      <td>2024-01-12</td>\n",
       "      <td>12</td>\n",
       "      <td>Light rain shower</td>\n",
       "      <td>18.8</td>\n",
       "      <td>1</td>\n",
       "      <td>100</td>\n",
       "    </tr>\n",
       "    <tr>\n",
       "      <th>13</th>\n",
       "      <td>2024-01-12</td>\n",
       "      <td>13</td>\n",
       "      <td>Light rain shower</td>\n",
       "      <td>19.0</td>\n",
       "      <td>1</td>\n",
       "      <td>100</td>\n",
       "    </tr>\n",
       "    <tr>\n",
       "      <th>14</th>\n",
       "      <td>2024-01-12</td>\n",
       "      <td>14</td>\n",
       "      <td>Light rain shower</td>\n",
       "      <td>18.8</td>\n",
       "      <td>1</td>\n",
       "      <td>100</td>\n",
       "    </tr>\n",
       "    <tr>\n",
       "      <th>15</th>\n",
       "      <td>2024-01-12</td>\n",
       "      <td>15</td>\n",
       "      <td>Light rain shower</td>\n",
       "      <td>18.7</td>\n",
       "      <td>1</td>\n",
       "      <td>100</td>\n",
       "    </tr>\n",
       "    <tr>\n",
       "      <th>16</th>\n",
       "      <td>2024-01-12</td>\n",
       "      <td>16</td>\n",
       "      <td>Light drizzle</td>\n",
       "      <td>18.7</td>\n",
       "      <td>1</td>\n",
       "      <td>100</td>\n",
       "    </tr>\n",
       "    <tr>\n",
       "      <th>17</th>\n",
       "      <td>2024-01-12</td>\n",
       "      <td>17</td>\n",
       "      <td>Light rain shower</td>\n",
       "      <td>18.6</td>\n",
       "      <td>1</td>\n",
       "      <td>100</td>\n",
       "    </tr>\n",
       "    <tr>\n",
       "      <th>18</th>\n",
       "      <td>2024-01-12</td>\n",
       "      <td>18</td>\n",
       "      <td>Partly cloudy</td>\n",
       "      <td>25.0</td>\n",
       "      <td>1</td>\n",
       "      <td>100</td>\n",
       "    </tr>\n",
       "    <tr>\n",
       "      <th>19</th>\n",
       "      <td>2024-01-12</td>\n",
       "      <td>19</td>\n",
       "      <td>Mist</td>\n",
       "      <td>15.4</td>\n",
       "      <td>0</td>\n",
       "      <td>63</td>\n",
       "    </tr>\n",
       "    <tr>\n",
       "      <th>20</th>\n",
       "      <td>2024-01-12</td>\n",
       "      <td>20</td>\n",
       "      <td>Mist</td>\n",
       "      <td>13.8</td>\n",
       "      <td>0</td>\n",
       "      <td>0</td>\n",
       "    </tr>\n",
       "    <tr>\n",
       "      <th>21</th>\n",
       "      <td>2024-01-12</td>\n",
       "      <td>21</td>\n",
       "      <td>Mist</td>\n",
       "      <td>13.7</td>\n",
       "      <td>0</td>\n",
       "      <td>63</td>\n",
       "    </tr>\n",
       "    <tr>\n",
       "      <th>22</th>\n",
       "      <td>2024-01-12</td>\n",
       "      <td>22</td>\n",
       "      <td>Cloudy</td>\n",
       "      <td>13.5</td>\n",
       "      <td>0</td>\n",
       "      <td>0</td>\n",
       "    </tr>\n",
       "    <tr>\n",
       "      <th>23</th>\n",
       "      <td>2024-01-12</td>\n",
       "      <td>23</td>\n",
       "      <td>Mist</td>\n",
       "      <td>15.1</td>\n",
       "      <td>1</td>\n",
       "      <td>77</td>\n",
       "    </tr>\n",
       "  </tbody>\n",
       "</table>\n",
       "</div>"
      ],
      "text/plain": [
       "         Fecha  Hora             Condicion  Temperatura  Lluvia  Prob_lluvia\n",
       "0   2024-01-12     0                   Fog         16.2       1           75\n",
       "1   2024-01-12     1                  Mist         15.2       0            0\n",
       "2   2024-01-12     2                  Mist         13.8       0            0\n",
       "3   2024-01-12     3         Partly cloudy         13.1       0            0\n",
       "4   2024-01-12     4         Partly cloudy         12.8       0            0\n",
       "5   2024-01-12     5                  Mist         12.3       0            0\n",
       "6   2024-01-12     6                  Mist         12.4       0            0\n",
       "7   2024-01-12     7                  Mist         15.8       0            0\n",
       "8   2024-01-12     8  Patchy rain possible         17.7       1           89\n",
       "9   2024-01-12     9         Light drizzle         18.1       1          100\n",
       "10  2024-01-12    10         Light drizzle         18.4       1          100\n",
       "11  2024-01-12    11     Light rain shower         18.6       1          100\n",
       "12  2024-01-12    12     Light rain shower         18.8       1          100\n",
       "13  2024-01-12    13     Light rain shower         19.0       1          100\n",
       "14  2024-01-12    14     Light rain shower         18.8       1          100\n",
       "15  2024-01-12    15     Light rain shower         18.7       1          100\n",
       "16  2024-01-12    16         Light drizzle         18.7       1          100\n",
       "17  2024-01-12    17     Light rain shower         18.6       1          100\n",
       "18  2024-01-12    18         Partly cloudy         25.0       1          100\n",
       "19  2024-01-12    19                  Mist         15.4       0           63\n",
       "20  2024-01-12    20                  Mist         13.8       0            0\n",
       "21  2024-01-12    21                  Mist         13.7       0           63\n",
       "22  2024-01-12    22                Cloudy         13.5       0            0\n",
       "23  2024-01-12    23                  Mist         15.1       1           77"
      ]
     },
     "execution_count": 10,
     "metadata": {},
     "output_type": "execute_result"
    }
   ],
   "source": [
    "df"
   ]
  },
  {
   "cell_type": "code",
   "execution_count": 11,
   "metadata": {},
   "outputs": [
    {
     "data": {
      "text/plain": [
       "Fecha           object\n",
       "Hora             int64\n",
       "Condicion       object\n",
       "Temperatura    float64\n",
       "Lluvia           int64\n",
       "Prob_lluvia      int64\n",
       "dtype: object"
      ]
     },
     "execution_count": 11,
     "metadata": {},
     "output_type": "execute_result"
    }
   ],
   "source": [
    "df.dtypes"
   ]
  },
  {
   "cell_type": "code",
   "execution_count": 12,
   "metadata": {},
   "outputs": [
    {
     "data": {
      "text/html": [
       "<div>\n",
       "<style scoped>\n",
       "    .dataframe tbody tr th:only-of-type {\n",
       "        vertical-align: middle;\n",
       "    }\n",
       "\n",
       "    .dataframe tbody tr th {\n",
       "        vertical-align: top;\n",
       "    }\n",
       "\n",
       "    .dataframe thead th {\n",
       "        text-align: right;\n",
       "    }\n",
       "</style>\n",
       "<table border=\"1\" class=\"dataframe\">\n",
       "  <thead>\n",
       "    <tr style=\"text-align: right;\">\n",
       "      <th></th>\n",
       "      <th>Condicion</th>\n",
       "    </tr>\n",
       "    <tr>\n",
       "      <th>Hora</th>\n",
       "      <th></th>\n",
       "    </tr>\n",
       "  </thead>\n",
       "  <tbody>\n",
       "    <tr>\n",
       "      <th>8</th>\n",
       "      <td>Patchy rain possible</td>\n",
       "    </tr>\n",
       "    <tr>\n",
       "      <th>9</th>\n",
       "      <td>Light drizzle</td>\n",
       "    </tr>\n",
       "    <tr>\n",
       "      <th>10</th>\n",
       "      <td>Light drizzle</td>\n",
       "    </tr>\n",
       "    <tr>\n",
       "      <th>11</th>\n",
       "      <td>Light rain shower</td>\n",
       "    </tr>\n",
       "    <tr>\n",
       "      <th>12</th>\n",
       "      <td>Light rain shower</td>\n",
       "    </tr>\n",
       "    <tr>\n",
       "      <th>13</th>\n",
       "      <td>Light rain shower</td>\n",
       "    </tr>\n",
       "    <tr>\n",
       "      <th>14</th>\n",
       "      <td>Light rain shower</td>\n",
       "    </tr>\n",
       "    <tr>\n",
       "      <th>15</th>\n",
       "      <td>Light rain shower</td>\n",
       "    </tr>\n",
       "    <tr>\n",
       "      <th>16</th>\n",
       "      <td>Light drizzle</td>\n",
       "    </tr>\n",
       "    <tr>\n",
       "      <th>17</th>\n",
       "      <td>Light rain shower</td>\n",
       "    </tr>\n",
       "    <tr>\n",
       "      <th>18</th>\n",
       "      <td>Partly cloudy</td>\n",
       "    </tr>\n",
       "    <tr>\n",
       "      <th>23</th>\n",
       "      <td>Mist</td>\n",
       "    </tr>\n",
       "  </tbody>\n",
       "</table>\n",
       "</div>"
      ],
      "text/plain": [
       "                 Condicion\n",
       "Hora                      \n",
       "8     Patchy rain possible\n",
       "9            Light drizzle\n",
       "10           Light drizzle\n",
       "11       Light rain shower\n",
       "12       Light rain shower\n",
       "13       Light rain shower\n",
       "14       Light rain shower\n",
       "15       Light rain shower\n",
       "16           Light drizzle\n",
       "17       Light rain shower\n",
       "18           Partly cloudy\n",
       "23                    Mist"
      ]
     },
     "execution_count": 12,
     "metadata": {},
     "output_type": "execute_result"
    }
   ],
   "source": [
    "df_rain = df[(df['Lluvia']==1) & (df['Hora']>=6)]\n",
    "df_rain = df_rain[['Hora','Condicion']]\n",
    "df_rain = df_rain.set_index('Hora')\n",
    "df_rain"
   ]
  },
  {
   "cell_type": "code",
   "execution_count": 13,
   "metadata": {},
   "outputs": [
    {
     "data": {
      "text/plain": [
       "'Hola!\\nEl pronostico de lluvia para hoy 2024-01-12 en San Salvador de Jujuy es:\\n                 Condicion\\nHora                      \\n8     Patchy rain possible\\n9            Light drizzle\\n10           Light drizzle\\n11       Light rain shower\\n12       Light rain shower\\n13       Light rain shower\\n14       Light rain shower\\n15       Light rain shower\\n16           Light drizzle\\n17       Light rain shower\\n18           Partly cloudy\\n23                    Mist'"
      ]
     },
     "execution_count": 13,
     "metadata": {},
     "output_type": "execute_result"
    }
   ],
   "source": [
    "# MENSAJE\n",
    "mensaje = f\"Hola!\\nEl pronostico de lluvia para hoy {df['Fecha'][0]} en {query} es:\\n{str(df_rain)}\"\n",
    "mensaje"
   ]
  },
  {
   "cell_type": "code",
   "execution_count": 14,
   "metadata": {},
   "outputs": [
    {
     "data": {
      "text/plain": [
       "'+1 720 583 9694'"
      ]
     },
     "execution_count": 14,
     "metadata": {},
     "output_type": "execute_result"
    }
   ],
   "source": [
    "# NUMERO\n",
    "PHONE_NUMBER"
   ]
  },
  {
   "cell_type": "code",
   "execution_count": 15,
   "metadata": {},
   "outputs": [
    {
     "name": "stdout",
     "output_type": "stream",
     "text": [
      "Mensaje enviado!  SM912a040f717add9ca3dbafacd161664e\n"
     ]
    }
   ],
   "source": [
    "#import os\n",
    "#from twilio.rest import Client\n",
    "\n",
    "\n",
    "# Find your Account SID and Auth Token at twilio.com/console\n",
    "# and set the environment variables. See http://twil.io/secure\n",
    "account_sid = TWILIO_ACCOUNT_SID\n",
    "auth_token = TWILIO_AUTH_TOKEN\n",
    "\n",
    "client = Client(account_sid, auth_token)\n",
    "\n",
    "message = client.messages \\\n",
    "    .create(\n",
    "        body=mensaje,\n",
    "        from_=PHONE_NUMBER,\n",
    "        to='+543886857117'\n",
    "    )\n",
    "\n",
    "print('Mensaje enviado! ',message.sid)"
   ]
  }
 ],
 "metadata": {
  "kernelspec": {
   "display_name": "venv",
   "language": "python",
   "name": "python3"
  },
  "language_info": {
   "codemirror_mode": {
    "name": "ipython",
    "version": 3
   },
   "file_extension": ".py",
   "mimetype": "text/x-python",
   "name": "python",
   "nbconvert_exporter": "python",
   "pygments_lexer": "ipython3",
   "version": "3.8.10"
  }
 },
 "nbformat": 4,
 "nbformat_minor": 2
}
