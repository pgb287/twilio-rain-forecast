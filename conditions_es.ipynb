{
 "cells": [
  {
   "cell_type": "code",
   "execution_count": 62,
   "metadata": {},
   "outputs": [],
   "source": [
    "import json\n",
    "import pandas as pd\n",
    "import requests"
   ]
  },
  {
   "cell_type": "code",
   "execution_count": 63,
   "metadata": {},
   "outputs": [],
   "source": [
    "url_conditions = \"https://www.weatherapi.com/docs/conditions.json\"\n",
    "\n",
    "response = requests.get(url_conditions)"
   ]
  },
  {
   "cell_type": "code",
   "execution_count": 64,
   "metadata": {},
   "outputs": [],
   "source": [
    "raw_text = response.text\n",
    "text_without_bom = raw_text.encode().decode('utf-8-sig')\n",
    "data = json.loads(text_without_bom)"
   ]
  },
  {
   "cell_type": "code",
   "execution_count": 89,
   "metadata": {},
   "outputs": [
    {
     "data": {
      "text/plain": [
       "1063"
      ]
     },
     "execution_count": 89,
     "metadata": {},
     "output_type": "execute_result"
    }
   ],
   "source": [
    "#len(data)\n",
    "data[5]['code']\n",
    "#data[5]['languages'][27]"
   ]
  },
  {
   "cell_type": "code",
   "execution_count": 96,
   "metadata": {},
   "outputs": [],
   "source": [
    "dics = {}\n",
    "\n",
    "for i in range(len(data)):    \n",
    "    codigo = data[i]['code']\n",
    "    condicion = data[i]['languages'][27]['day_text']\n",
    "    dics[codigo] = condicion    "
   ]
  },
  {
   "cell_type": "code",
   "execution_count": 97,
   "metadata": {},
   "outputs": [
    {
     "data": {
      "text/plain": [
       "{1000: 'Soleado',\n",
       " 1003: 'Parcialmente nublado',\n",
       " 1006: 'Nublado',\n",
       " 1009: 'Cielo cubierto',\n",
       " 1030: 'Neblina',\n",
       " 1063: 'Lluvia  moderada a intervalos',\n",
       " 1066: 'Nieve moderada a intervalos en las aproximaciones',\n",
       " 1069: 'Aguanieve moderada a intervalos en las aproximaciones',\n",
       " 1072: 'Llovizna helada a intervalos en las aproximaciones',\n",
       " 1087: 'Cielos tormentosos en las aproximaciones',\n",
       " 1114: 'Chubascos de nieve',\n",
       " 1117: 'Ventisca',\n",
       " 1135: 'Niebla moderada',\n",
       " 1147: 'Niebla helada',\n",
       " 1150: 'Llovizna a intervalos',\n",
       " 1153: 'Llovizna',\n",
       " 1168: 'Llovizna helada',\n",
       " 1171: 'Fuerte llovizna helada',\n",
       " 1180: 'Lluvias ligeras a intervalos',\n",
       " 1183: 'Ligeras lluvias',\n",
       " 1186: 'Periodos de lluvia moderada',\n",
       " 1189: 'Lluvia moderada',\n",
       " 1192: 'Periodos de fuertes lluvias',\n",
       " 1195: 'Fuertes lluvias',\n",
       " 1198: 'Ligeras lluvias heladas',\n",
       " 1201: 'Lluvias heladas fuertes o moderadas',\n",
       " 1204: 'Ligeras precipitaciones de aguanieve',\n",
       " 1207: 'Aguanieve fuerte o moderada',\n",
       " 1210: 'Nevadas ligeras a intervalos',\n",
       " 1213: 'Nevadas ligeras',\n",
       " 1216: 'Nieve moderada a intervalos',\n",
       " 1219: 'Nieve moderada',\n",
       " 1222: 'Nevadas intensas',\n",
       " 1225: 'Fuertes nevadas',\n",
       " 1237: 'Granizo',\n",
       " 1240: 'Ligeras precipitaciones',\n",
       " 1243: 'Lluvias fuertes o moderadas',\n",
       " 1246: 'Lluvias torrenciales',\n",
       " 1249: 'Ligeros chubascos de aguanieve',\n",
       " 1252: 'Chubascos de aguanieve fuertes o moderados',\n",
       " 1255: 'Ligeras precipitaciones de nieve',\n",
       " 1258: 'Chubascos de nieve fuertes o moderados',\n",
       " 1261: 'Ligeros chubascos acompañados de granizo',\n",
       " 1264: 'Chubascos fuertes o moderados acompañados de granizo',\n",
       " 1273: 'Intervalos de lluvias ligeras con tomenta en la región',\n",
       " 1276: 'Lluvias con tormenta fuertes o moderadas en la región',\n",
       " 1279: 'Nieve moderada con tormenta en la región',\n",
       " 1282: 'Nieve moderada o fuertes nevadas con tormenta en la región'}"
      ]
     },
     "execution_count": 97,
     "metadata": {},
     "output_type": "execute_result"
    }
   ],
   "source": [
    "dics"
   ]
  }
 ],
 "metadata": {
  "kernelspec": {
   "display_name": "env",
   "language": "python",
   "name": "python3"
  },
  "language_info": {
   "codemirror_mode": {
    "name": "ipython",
    "version": 3
   },
   "file_extension": ".py",
   "mimetype": "text/x-python",
   "name": "python",
   "nbconvert_exporter": "python",
   "pygments_lexer": "ipython3",
   "version": "3.8.10"
  }
 },
 "nbformat": 4,
 "nbformat_minor": 2
}
